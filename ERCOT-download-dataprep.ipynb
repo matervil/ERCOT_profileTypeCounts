{
 "cells": [
  {
   "cell_type": "code",
   "execution_count": 59,
   "id": "80d2b34b",
   "metadata": {},
   "outputs": [],
   "source": [
    "# Import necessary libraries\n",
    "\n",
    "# GET request and Zip files\n",
    "import requests, zipfile\n",
    "from io import BytesIO\n",
    "import requests, zipfile\n",
    "\n",
    "# Dataframes and OS navigation\n",
    "import pandas as pd\n",
    "import os\n",
    "import glob\n",
    "import numpy as np\n",
    "\n",
    "\n",
    "# The link should be of the file directly (requires to be connected to an US IP)\n",
    "url = 'https://www.ercot.com/files/docs/2021/10/21/Profile%20Type%20Counts.zip'\n",
    "file_extension = '.zip'  \n",
    "r = requests.get(url)"
   ]
  },
  {
   "cell_type": "code",
   "execution_count": 60,
   "id": "3234ac66",
   "metadata": {},
   "outputs": [],
   "source": [
    "# If extension does not exist in end of url, append it\n",
    "if file_extension not in url.split(\"/\")[-1]:\n",
    "        filename = f'{last_url_path}{file_extension}'\n",
    "else:\n",
    "        filename = url.split(\"/\")[-1]\n",
    "\n",
    "with open(filename, 'wb') as f:\n",
    "        f.write(r.content)"
   ]
  },
  {
   "cell_type": "code",
   "execution_count": 61,
   "id": "dcf69105",
   "metadata": {},
   "outputs": [],
   "source": [
    "# Extracting the zip file contents\n",
    "zipfile= zipfile.ZipFile(BytesIO(r.content))\n",
    "zipfile.extractall('C:/Users/matia/dsprojects/ProfileTypeCounts')"
   ]
  },
  {
   "cell_type": "code",
   "execution_count": 73,
   "id": "d21b4ec7",
   "metadata": {},
   "outputs": [],
   "source": [
    "# use glob to get all the csv files\n",
    "# in the folder\n",
    "os.chdir('C:/Users/matia/dsprojects/ProfileTypeCounts')\n",
    "\n",
    "path = os.getcwd()\n",
    "csv_files = glob.glob(os.path.join(path, \"*.xlsx\"))"
   ]
  },
  {
   "cell_type": "code",
   "execution_count": 76,
   "id": "0ed972e2",
   "metadata": {},
   "outputs": [],
   "source": [
    "# skeleton\n",
    "dfsk = pd.DataFrame(columns=['WEATHERZONE', 'METERDATATYPE', 'TDSPNAME', 'PROFILETYPE', 'RECORDS', 'FILENAME'])\n",
    "\n",
    "# loop over the list of csv files\n",
    "for f in csv_files:\n",
    "    \n",
    "    # read the csv file\n",
    "    df = pd.read_excel(f, sheet_name='Data')\n",
    "    if 'TDSPnmae' in df.columns:\n",
    "        df = df.rename(columns={'TDSPnmae':'TDSPNAME1'})\n",
    "    elif 'TDSPName' in df.columns:\n",
    "        df = df.rename(columns={'TDSPName':'TDSPNAME2'})\n",
    "\n",
    "    df['FILENAME'] = f.split(\"\\\\\")[-1]\n",
    "    dfsk = pd.concat([dfsk, df], axis=0, ignore_index=True)\n",
    "      \n",
    "    # print the location and filename\n",
    "    # print('File Name:', f.split(\"\\\\\")[-1])"
   ]
  },
  {
   "cell_type": "code",
   "execution_count": 77,
   "id": "580647d9",
   "metadata": {},
   "outputs": [
    {
     "data": {
      "text/plain": [
       "['WEATHERZONE',\n",
       " 'METERDATATYPE',\n",
       " 'TDSPNAME',\n",
       " 'PROFILETYPE',\n",
       " 'RECORDS',\n",
       " 'FILENAME',\n",
       " 'TDSPNAME1',\n",
       " 'TDSPNAME2']"
      ]
     },
     "execution_count": 77,
     "metadata": {},
     "output_type": "execute_result"
    }
   ],
   "source": [
    "list(dfsk.columns)"
   ]
  },
  {
   "cell_type": "code",
   "execution_count": null,
   "id": "d848568b",
   "metadata": {},
   "outputs": [],
   "source": []
  }
 ],
 "metadata": {
  "kernelspec": {
   "display_name": "Python 3.9.12 ('base')",
   "language": "python",
   "name": "python3"
  },
  "language_info": {
   "codemirror_mode": {
    "name": "ipython",
    "version": 3
   },
   "file_extension": ".py",
   "mimetype": "text/x-python",
   "name": "python",
   "nbconvert_exporter": "python",
   "pygments_lexer": "ipython3",
   "version": "3.9.12"
  },
  "vscode": {
   "interpreter": {
    "hash": "fca72ad1ff7547717d2a7b1dba43a0a71de06ae84985446afc148259c6d75b14"
   }
  }
 },
 "nbformat": 4,
 "nbformat_minor": 5
}
